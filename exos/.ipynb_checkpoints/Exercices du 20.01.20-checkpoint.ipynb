{
 "cells": [
  {
   "cell_type": "code",
   "execution_count": 5,
   "metadata": {},
   "outputs": [],
   "source": [
    "class CompteBancaire :\n",
    "        \n",
    "    def __init__(self,nom='Dupont',solde=100) :\n",
    "            self.nom=nom\n",
    "            self.solde=solde\n",
    "    \n",
    "    def depot(self,somme) :\n",
    "        self.solde = self.solde+somme\n",
    "    \n",
    "    def retrait(self,somme) :\n",
    "        self.solde = self.solde-somme\n",
    "    \n",
    "    def affiche(self) :\n",
    "        print (\"Titulaire du compte :{}, solde du compte : {}\".format(self.nom,self.solde))\n"
   ]
  },
  {
   "cell_type": "code",
   "execution_count": 6,
   "metadata": {},
   "outputs": [],
   "source": [
    "compte1 = CompteBancaire()"
   ]
  },
  {
   "cell_type": "code",
   "execution_count": 7,
   "metadata": {},
   "outputs": [
    {
     "name": "stdout",
     "output_type": "stream",
     "text": [
      "Titulaire du compte :Dupont, solde du compte : 100\n"
     ]
    }
   ],
   "source": [
    "compte1.affiche()"
   ]
  },
  {
   "cell_type": "code",
   "execution_count": 8,
   "metadata": {},
   "outputs": [],
   "source": [
    "compte1 = CompteBancaire('Assan',100)"
   ]
  },
  {
   "cell_type": "code",
   "execution_count": 9,
   "metadata": {},
   "outputs": [
    {
     "name": "stdout",
     "output_type": "stream",
     "text": [
      "Titulaire du compte :Assan, solde du compte : 100\n"
     ]
    }
   ],
   "source": [
    "compte1.affiche()"
   ]
  },
  {
   "cell_type": "code",
   "execution_count": 10,
   "metadata": {},
   "outputs": [],
   "source": [
    "class Point :\n",
    "    \n",
    "    def __init__(self,x=0,y=0,z=None) :\n",
    "        self.x = x\n",
    "        self.y = y\n",
    "        self.z = z\n",
    "    \n",
    "    def toString(self) :\n",
    "        if self.z is not None :\n",
    "            print(\"X : %.2f , Y : %.2f, Z : %.2f\" %(self.x,self.y,self.z))\n",
    "        else :\n",
    "            print(\"X : %.2f , Y : %.2f\" %(self.x,self.y))"
   ]
  },
  {
   "cell_type": "code",
   "execution_count": 11,
   "metadata": {},
   "outputs": [],
   "source": [
    "pt1 = Point(0,1)"
   ]
  },
  {
   "cell_type": "code",
   "execution_count": 12,
   "metadata": {},
   "outputs": [
    {
     "name": "stdout",
     "output_type": "stream",
     "text": [
      "X : 0.00 , Y : 1.00\n"
     ]
    }
   ],
   "source": [
    "pt1.toString()"
   ]
  },
  {
   "cell_type": "code",
   "execution_count": 14,
   "metadata": {},
   "outputs": [],
   "source": [
    "pt2 = Point(4,4,2)"
   ]
  },
  {
   "cell_type": "code",
   "execution_count": 15,
   "metadata": {},
   "outputs": [
    {
     "name": "stdout",
     "output_type": "stream",
     "text": [
      "X : 4.00 , Y : 4.00, Z : 2.00\n"
     ]
    }
   ],
   "source": [
    "pt2.toString()"
   ]
  },
  {
   "cell_type": "code",
   "execution_count": 16,
   "metadata": {},
   "outputs": [],
   "source": [
    "class DateNaissance:\n",
    "    jour=0\n",
    "    mois=0\n",
    "    année=0\n",
    "    \n",
    "    def __init__(self,jour,mois,annee) :\n",
    "        self.jour = jour\n",
    "        self.mois = mois\n",
    "        self.annee = annee\n",
    "        \n",
    "    def toString(self) :\n",
    "        print(\"Date de naissance : %2d/%2d/%d\"%(self.jour,self.mois,self.annee))"
   ]
  },
  {
   "cell_type": "code",
   "execution_count": 17,
   "metadata": {},
   "outputs": [],
   "source": [
    "d1 = DateNaissance(7,11,1995)"
   ]
  },
  {
   "cell_type": "code",
   "execution_count": 18,
   "metadata": {},
   "outputs": [
    {
     "name": "stdout",
     "output_type": "stream",
     "text": [
      "Date de naissance :  7/11/1995\n"
     ]
    }
   ],
   "source": [
    "d1.toString()"
   ]
  },
  {
   "cell_type": "code",
   "execution_count": 36,
   "metadata": {},
   "outputs": [],
   "source": [
    "class Personne(DateNaissance):\n",
    "    nom=\"\"\n",
    "    prenom=\"\"\n",
    "    dateDeNaissance=\"\"\n",
    "    \n",
    "    def __init__(self,nom,prenom,DateNaissance) :\n",
    "        self.nom=nom\n",
    "        self.prenom=prenom\n",
    "        self.dateDeNaissance=DateNaissance\n",
    "    \n",
    "    def afficher(self) :\n",
    "        print(\"Nom : %s , Prenom %s \"%(self.nom,self.prenom))\n",
    "        self.dateDeNaissance.toString()"
   ]
  },
  {
   "cell_type": "code",
   "execution_count": 37,
   "metadata": {},
   "outputs": [],
   "source": [
    "p1 = Personne(\"Assan\",\"DIOMANDE\",DateNaissance(7,11,1995))"
   ]
  },
  {
   "cell_type": "code",
   "execution_count": 38,
   "metadata": {},
   "outputs": [
    {
     "name": "stdout",
     "output_type": "stream",
     "text": [
      "Nom : Assan , Prenom DIOMANDE \n",
      "Date de naissance :  7/11/1995\n"
     ]
    }
   ],
   "source": [
    "p1.afficher()"
   ]
  },
  {
   "cell_type": "code",
   "execution_count": 39,
   "metadata": {},
   "outputs": [],
   "source": [
    "class Employe(Personne):\n",
    "    salaire=\"\"\n",
    "    \n",
    "    def __init__(self,nom,prenom,dateNaissance,salaire):\n",
    "        super().__init__(nom,prenom,dateNaissance)\n",
    "        self.salaire=salaire\n",
    "        \n",
    "    def afficher(self):\n",
    "        super().afficher()\n",
    "        print(\"Salaire : %.2f\"%self.salaire)"
   ]
  },
  {
   "cell_type": "code",
   "execution_count": 40,
   "metadata": {},
   "outputs": [],
   "source": [
    "e1 = Employe(\"Assan\",\"DIOMANDE\",DateNaissance(7,11,1995),1111.11)"
   ]
  },
  {
   "cell_type": "code",
   "execution_count": 41,
   "metadata": {},
   "outputs": [
    {
     "name": "stdout",
     "output_type": "stream",
     "text": [
      "Nom : Assan , Prenom DIOMANDE \n",
      "Date de naissance :  7/11/1995\n",
      "Salaire : 1111.11\n"
     ]
    }
   ],
   "source": [
    "e1.afficher()"
   ]
  },
  {
   "cell_type": "code",
   "execution_count": 44,
   "metadata": {},
   "outputs": [],
   "source": [
    "class Chef(Employe):\n",
    "    service=\"\"\n",
    "    \n",
    "    def __init__(self,nom,prenom,dateNaissance,salaire,service):\n",
    "        super().__init__(nom,prenom,dateNaissance,salaire)\n",
    "        self.service=service\n",
    "        \n",
    "    def afficher(self):\n",
    "        super().afficher()\n",
    "        print(\"Service : %s\"%self.service)"
   ]
  },
  {
   "cell_type": "code",
   "execution_count": 45,
   "metadata": {},
   "outputs": [],
   "source": [
    "c1 = Chef(\"Assan\",\"DIOMANDE\",DateNaissance(7,11,1995),1111.11,\"Developpeur php\")"
   ]
  },
  {
   "cell_type": "code",
   "execution_count": 46,
   "metadata": {},
   "outputs": [
    {
     "name": "stdout",
     "output_type": "stream",
     "text": [
      "Nom : Assan , Prenom DIOMANDE \n",
      "Date de naissance :  7/11/1995\n",
      "Salaire : 1111.11\n",
      "Service : Developpeur php\n"
     ]
    }
   ],
   "source": [
    "c1.afficher()"
   ]
  },
  {
   "cell_type": "code",
   "execution_count": 78,
   "metadata": {},
   "outputs": [],
   "source": [
    "class Courrier:\n",
    "    \n",
    "    poids=0\n",
    "    mode_exp=\"\"\n",
    "    adr_exp=\"\"\n",
    "    adr_des=\"\"\n",
    "    \n",
    "    def __init__(self,poids,mode_exp,adr_exp,adr_des) :\n",
    "        self.poids=poids\n",
    "        self.mode_exp=mode_exp\n",
    "        self.adr_exp=adr_exp\n",
    "        self.adr_des=adr_des        \n",
    "    \n",
    "    def toString(self) :\n",
    "        print(\"poids %.2f , mode expedition : %s , adresse expedition : %s , adresse destination %s\"%(self.poids,self.mode_exp,self.adr_exp,self.adr_des))\n"
   ]
  },
  {
   "cell_type": "code",
   "execution_count": 96,
   "metadata": {},
   "outputs": [],
   "source": [
    "class Lettre(Courrier):\n",
    "    format_lettre=\"\"\n",
    "    \n",
    "    def __init__(self,poids,mode_exp,adr_exp,adr_des,format_lettre) :\n",
    "        super().__init__(poids,mode_exp,adr_exp,adr_des)\n",
    "        self.format_lettre=format_lettre\n",
    "    \n",
    "    def calculTimbre(self) :\n",
    "        tarif_base=0\n",
    "        if self.format_lettre == \"A4\":\n",
    "            tarif_base=2.5\n",
    "        else:\n",
    "            tarif_base=3.5\n",
    "        \n",
    "        if self.mode_exp == \"normal\" :\n",
    "            return tarif_base+(1.0*(self.poids/1000))\n",
    "        else :\n",
    "            return 2*(tarif_base+(1.0*(self.poids/1000)))\n",
    "    \n",
    "    def toString(self) :\n",
    "        print(\"Lettre : \")\n",
    "        super().toString()\n",
    "        print(\"Format de la lettre : %s \"%(self.format_lettre))\n",
    "        print(\"Prix du timbre : %.2f\"%(self.calculTimbre()))"
   ]
  },
  {
   "cell_type": "code",
   "execution_count": 97,
   "metadata": {},
   "outputs": [],
   "source": [
    "class Colis(Courrier):\n",
    "    volume=0\n",
    "    \n",
    "    def __init__(self,poids,mode_exp,adr_exp,adr_des,volume) :\n",
    "        super().__init__(poids,mode_exp,adr_exp,adr_des)\n",
    "        self.volume=volume\n",
    "    \n",
    "    def calculTimbre(self) :\n",
    "        if self.mode_exp == \"normal\" :\n",
    "            return (0.25*self.volume)+(self.poids/1000)\n",
    "        else :\n",
    "            return 2*((0.25*self.volume)+(self.poids/1000))\n",
    "        \n",
    "    def toString(self) :\n",
    "        print(\"Colis : \")\n",
    "        super().toString()\n",
    "        print(\"Volume : %.2f \"%(self.volume))\n",
    "        print(\"Prix du timbre : %.2f\"%(self.calculTimbre()))"
   ]
  },
  {
   "cell_type": "code",
   "execution_count": 98,
   "metadata": {},
   "outputs": [],
   "source": [
    "L1 = Lettre(80,\"normal\",\"Paris\",\"Lille\",\"A4\")"
   ]
  },
  {
   "cell_type": "code",
   "execution_count": 99,
   "metadata": {},
   "outputs": [],
   "source": [
    "C1=Colis(3500,\"expresse\",\"Barcelone\",\"Marrakech\",2.25)"
   ]
  },
  {
   "cell_type": "code",
   "execution_count": 100,
   "metadata": {},
   "outputs": [
    {
     "name": "stdout",
     "output_type": "stream",
     "text": [
      "Lettre : \n",
      "poids 80.00 , mode expedition : normal , adresse expedition : Paris , adresse destination Lille\n",
      "Format de la lettre : A4 \n",
      "Prix du timbre : 2.58\n"
     ]
    }
   ],
   "source": [
    "L1.toString()"
   ]
  },
  {
   "cell_type": "code",
   "execution_count": 101,
   "metadata": {},
   "outputs": [
    {
     "name": "stdout",
     "output_type": "stream",
     "text": [
      "Colis : \n",
      "poids 3500.00 , mode expedition : expresse , adresse expedition : Barcelone , adresse destination Marrakech\n",
      "Volume : 2.25 \n",
      "Prix du timbre : 8.12\n"
     ]
    }
   ],
   "source": [
    "C1.toString()"
   ]
  },
  {
   "cell_type": "code",
   "execution_count": null,
   "metadata": {},
   "outputs": [],
   "source": []
  }
 ],
 "metadata": {
  "kernelspec": {
   "display_name": "Python 3",
   "language": "python",
   "name": "python3"
  },
  "language_info": {
   "codemirror_mode": {
    "name": "ipython",
    "version": 3
   },
   "file_extension": ".py",
   "mimetype": "text/x-python",
   "name": "python",
   "nbconvert_exporter": "python",
   "pygments_lexer": "ipython3",
   "version": "3.7.3"
  }
 },
 "nbformat": 4,
 "nbformat_minor": 4
}
