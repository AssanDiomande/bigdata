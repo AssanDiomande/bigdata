{
 "cells": [
  {
   "cell_type": "code",
   "execution_count": 5,
   "metadata": {},
   "outputs": [],
   "source": [
    "class CompteBancaire :\n",
    "        \n",
    "    def __init__(self,nom='Dupont',solde=100) :\n",
    "            self.nom=nom\n",
    "            self.solde=solde\n",
    "    \n",
    "    def depot(self,somme) :\n",
    "        self.solde = self.solde+somme\n",
    "    \n",
    "    def retrait(self,somme) :\n",
    "        self.solde = self.solde-somme\n",
    "    \n",
    "    def affiche(self) :\n",
    "        print (\"Titulaire du compte :{}, solde du compte : {}\".format(self.nom,self.solde))\n"
   ]
  },
  {
   "cell_type": "code",
   "execution_count": 6,
   "metadata": {},
   "outputs": [],
   "source": [
    "compte1 = CompteBancaire()"
   ]
  },
  {
   "cell_type": "code",
   "execution_count": 7,
   "metadata": {},
   "outputs": [
    {
     "name": "stdout",
     "output_type": "stream",
     "text": [
      "Titulaire du compte :Dupont, solde du compte : 100\n"
     ]
    }
   ],
   "source": [
    "compte1.affiche()"
   ]
  },
  {
   "cell_type": "code",
   "execution_count": 8,
   "metadata": {},
   "outputs": [],
   "source": [
    "compte1 = CompteBancaire('Assan',100)"
   ]
  },
  {
   "cell_type": "code",
   "execution_count": 9,
   "metadata": {},
   "outputs": [
    {
     "name": "stdout",
     "output_type": "stream",
     "text": [
      "Titulaire du compte :Assan, solde du compte : 100\n"
     ]
    }
   ],
   "source": [
    "compte1.affiche()"
   ]
  },
  {
   "cell_type": "code",
   "execution_count": 10,
   "metadata": {},
   "outputs": [],
   "source": [
    "class Point :\n",
    "    \n",
    "    def __init__(self,x=0,y=0,z=None) :\n",
    "        self.x = x\n",
    "        self.y = y\n",
    "        self.z = z\n",
    "    \n",
    "    def toString(self) :\n",
    "        if self.z is not None :\n",
    "            print(\"X : %.2f , Y : %.2f, Z : %.2f\" %(self.x,self.y,self.z))\n",
    "        else :\n",
    "            print(\"X : %.2f , Y : %.2f\" %(self.x,self.y))"
   ]
  },
  {
   "cell_type": "code",
   "execution_count": 11,
   "metadata": {},
   "outputs": [],
   "source": [
    "pt1 = Point(0,1)"
   ]
  },
  {
   "cell_type": "code",
   "execution_count": 12,
   "metadata": {},
   "outputs": [
    {
     "name": "stdout",
     "output_type": "stream",
     "text": [
      "X : 0.00 , Y : 1.00\n"
     ]
    }
   ],
   "source": [
    "pt1.toString()"
   ]
  },
  {
   "cell_type": "code",
   "execution_count": 14,
   "metadata": {},
   "outputs": [],
   "source": [
    "pt2 = Point(4,4,2)"
   ]
  },
  {
   "cell_type": "code",
   "execution_count": 15,
   "metadata": {},
   "outputs": [
    {
     "name": "stdout",
     "output_type": "stream",
     "text": [
      "X : 4.00 , Y : 4.00, Z : 2.00\n"
     ]
    }
   ],
   "source": [
    "pt2.toString()"
   ]
  },
  {
   "cell_type": "code",
   "execution_count": 16,
   "metadata": {},
   "outputs": [],
   "source": [
    "class DateNaissance:\n",
    "    jour=0\n",
    "    mois=0\n",
    "    année=0\n",
    "    \n",
    "    def __init__(self,jour,mois,annee) :\n",
    "        self.jour = jour\n",
    "        self.mois = mois\n",
    "        self.annee = annee\n",
    "        \n",
    "    def toString(self) :\n",
    "        print(\"Date de naissance : %2d/%2d/%d\"%(self.jour,self.mois,self.annee))"
   ]
  },
  {
   "cell_type": "code",
   "execution_count": 17,
   "metadata": {},
   "outputs": [],
   "source": [
    "d1 = DateNaissance(7,11,1995)"
   ]
  },
  {
   "cell_type": "code",
   "execution_count": 18,
   "metadata": {},
   "outputs": [
    {
     "name": "stdout",
     "output_type": "stream",
     "text": [
      "Date de naissance :  7/11/1995\n"
     ]
    }
   ],
   "source": [
    "d1.toString()"
   ]
  },
  {
   "cell_type": "code",
   "execution_count": 19,
   "metadata": {},
   "outputs": [],
   "source": [
    "class Personne(DateNaissance):\n",
    "    nom=\"\"\n",
    "    prenom=\"\"\n",
    "    dateDeNaissance=\"\"\n",
    "    \n",
    "    def __init__(self,nom,prenom,DateNaissance) :\n",
    "        self.nom=nom\n",
    "        self.prenom=prenom\n",
    "        self.dateDeNaissance=DateNaissance\n",
    "    \n",
    "    def afficher(self) :\n",
    "        print(\"Nom : %s , Prenom %s \"%(self.nom,self.prenom))\n",
    "        self.dateDeNaissance.toString()"
   ]
  },
  {
   "cell_type": "code",
   "execution_count": 21,
   "metadata": {},
   "outputs": [],
   "source": [
    "p1 = Personne(\"Assan\",\"DIOMANDE\",DateNaissance(7,11,1995))"
   ]
  },
  {
   "cell_type": "code",
   "execution_count": 23,
   "metadata": {},
   "outputs": [
    {
     "name": "stdout",
     "output_type": "stream",
     "text": [
      "Nom : Assan , Prenom DIOMANDE \n",
      "Date de naissance :  7/11/1995\n"
     ]
    }
   ],
   "source": [
    "p1.afficher()"
   ]
  },
  {
   "cell_type": "code",
   "execution_count": 27,
   "metadata": {},
   "outputs": [],
   "source": [
    "class Employe(Personne):\n",
    "    personne=\"\"\n",
    "    salaire=\"\"\n",
    "    \n",
    "    def __init__(self,Personne,salaire):\n",
    "        self.personne=Personne\n",
    "        self.salaire=salaire\n",
    "        \n",
    "    def afficher(self):\n",
    "        self.personne.afficher()\n",
    "        print(\"Salaire : %.2f\"%self.salaire)"
   ]
  },
  {
   "cell_type": "code",
   "execution_count": 28,
   "metadata": {},
   "outputs": [],
   "source": [
    "e1 = Employe(Personne(\"Assan\",\"DIOMANDE\",DateNaissance(7,11,1995)),1111.11)"
   ]
  },
  {
   "cell_type": "code",
   "execution_count": 29,
   "metadata": {},
   "outputs": [
    {
     "name": "stdout",
     "output_type": "stream",
     "text": [
      "Nom : Assan , Prenom DIOMANDE \n",
      "Date de naissance :  7/11/1995\n",
      "Salaire : 1111.11\n"
     ]
    }
   ],
   "source": [
    "e1.afficher()"
   ]
  },
  {
   "cell_type": "code",
   "execution_count": 31,
   "metadata": {},
   "outputs": [],
   "source": [
    "class Chef(Employe):\n",
    "    employe=\"\"\n",
    "    service=\"\"\n",
    "    \n",
    "    def __init__(self,Employe,service):\n",
    "        self.employe=Employe\n",
    "        self.service=service\n",
    "        \n",
    "    def afficher(self):\n",
    "        self.employe.afficher()\n",
    "        print(\"Service : %s\"%self.service)"
   ]
  },
  {
   "cell_type": "code",
   "execution_count": 32,
   "metadata": {},
   "outputs": [],
   "source": [
    "c1 = Chef(e1,\"Developpeur php\")"
   ]
  },
  {
   "cell_type": "code",
   "execution_count": 33,
   "metadata": {},
   "outputs": [
    {
     "name": "stdout",
     "output_type": "stream",
     "text": [
      "Nom : Assan , Prenom DIOMANDE \n",
      "Date de naissance :  7/11/1995\n",
      "Salaire : 1111.11\n",
      "Service : Developpeur php\n"
     ]
    }
   ],
   "source": [
    "c1.afficher()"
   ]
  },
  {
   "cell_type": "code",
   "execution_count": null,
   "metadata": {},
   "outputs": [],
   "source": []
  }
 ],
 "metadata": {
  "kernelspec": {
   "display_name": "Python 3",
   "language": "python",
   "name": "python3"
  },
  "language_info": {
   "codemirror_mode": {
    "name": "ipython",
    "version": 3
   },
   "file_extension": ".py",
   "mimetype": "text/x-python",
   "name": "python",
   "nbconvert_exporter": "python",
   "pygments_lexer": "ipython3",
   "version": "3.7.3"
  }
 },
 "nbformat": 4,
 "nbformat_minor": 4
}
